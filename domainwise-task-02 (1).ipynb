{
 "cells": [
  {
   "cell_type": "code",
   "execution_count": 1,
   "id": "1b78b00d",
   "metadata": {
    "execution": {
     "iopub.execute_input": "2023-05-14T17:33:47.160234Z",
     "iopub.status.busy": "2023-05-14T17:33:47.159877Z",
     "iopub.status.idle": "2023-05-14T17:33:47.170130Z",
     "shell.execute_reply": "2023-05-14T17:33:47.168844Z"
    },
    "papermill": {
     "duration": 0.016841,
     "end_time": "2023-05-14T17:33:47.172248",
     "exception": false,
     "start_time": "2023-05-14T17:33:47.155407",
     "status": "completed"
    },
    "tags": []
   },
   "outputs": [],
   "source": [
    "import pandas as pd\n"
   ]
  },
  {
   "cell_type": "code",
   "execution_count": 2,
   "id": "6f3fb89b",
   "metadata": {
    "execution": {
     "iopub.execute_input": "2023-05-14T17:33:47.178957Z",
     "iopub.status.busy": "2023-05-14T17:33:47.178486Z",
     "iopub.status.idle": "2023-05-14T17:33:47.209421Z",
     "shell.execute_reply": "2023-05-14T17:33:47.208181Z"
    },
    "papermill": {
     "duration": 0.037414,
     "end_time": "2023-05-14T17:33:47.212232",
     "exception": false,
     "start_time": "2023-05-14T17:33:47.174818",
     "status": "completed"
    },
    "tags": []
   },
   "outputs": [],
   "source": [
    "df = pd.read_csv('/kaggle/input/titanic/train_and_test2.csv')\n"
   ]
  },
  {
   "cell_type": "code",
   "execution_count": 3,
   "id": "73b3a1c0",
   "metadata": {
    "execution": {
     "iopub.execute_input": "2023-05-14T17:33:47.217957Z",
     "iopub.status.busy": "2023-05-14T17:33:47.217617Z",
     "iopub.status.idle": "2023-05-14T17:33:47.222042Z",
     "shell.execute_reply": "2023-05-14T17:33:47.221293Z"
    },
    "papermill": {
     "duration": 0.009734,
     "end_time": "2023-05-14T17:33:47.224248",
     "exception": false,
     "start_time": "2023-05-14T17:33:47.214514",
     "status": "completed"
    },
    "tags": []
   },
   "outputs": [
    {
     "name": "stdout",
     "output_type": "stream",
     "text": [
      "Index(['Passengerid', 'Age', 'Fare', 'Sex', 'sibsp', 'zero', 'zero.1',\n",
      "       'zero.2', 'zero.3', 'zero.4', 'zero.5', 'zero.6', 'Parch', 'zero.7',\n",
      "       'zero.8', 'zero.9', 'zero.10', 'zero.11', 'zero.12', 'zero.13',\n",
      "       'zero.14', 'Pclass', 'zero.15', 'zero.16', 'Embarked', 'zero.17',\n",
      "       'zero.18', '2urvived'],\n",
      "      dtype='object')\n"
     ]
    }
   ],
   "source": [
    "print(df.columns)\n",
    "\n"
   ]
  },
  {
   "cell_type": "code",
   "execution_count": 4,
   "id": "d234273d",
   "metadata": {
    "execution": {
     "iopub.execute_input": "2023-05-14T17:33:47.230622Z",
     "iopub.status.busy": "2023-05-14T17:33:47.229662Z",
     "iopub.status.idle": "2023-05-14T17:33:47.259891Z",
     "shell.execute_reply": "2023-05-14T17:33:47.258825Z"
    },
    "papermill": {
     "duration": 0.03658,
     "end_time": "2023-05-14T17:33:47.263105",
     "exception": false,
     "start_time": "2023-05-14T17:33:47.226525",
     "status": "completed"
    },
    "tags": []
   },
   "outputs": [
    {
     "name": "stdout",
     "output_type": "stream",
     "text": [
      "      Passengerid   Age     Fare  Sex  sibsp  zero  zero.1  zero.2  zero.3  \\\n",
      "0               1  22.0   7.2500    0      1     0       0       0       0   \n",
      "2               3  26.0   7.9250    1      0     0       0       0       0   \n",
      "5               6  28.0   8.4583    0      0     0       0       0       0   \n",
      "7               8   2.0  21.0750    0      3     0       0       0       0   \n",
      "8               9  27.0  11.1333    1      0     0       0       0       0   \n",
      "...           ...   ...      ...  ...    ...   ...     ...     ...     ...   \n",
      "1301         1302  28.0   7.7500    1      0     0       0       0       0   \n",
      "1303         1304  28.0   7.7750    1      0     0       0       0       0   \n",
      "1304         1305  28.0   8.0500    0      0     0       0       0       0   \n",
      "1307         1308  28.0   8.0500    0      0     0       0       0       0   \n",
      "1308         1309  28.0  22.3583    0      1     0       0       0       0   \n",
      "\n",
      "      zero.4  ...  zero.12  zero.13  zero.14  Pclass  zero.15  zero.16  \\\n",
      "0          0  ...        0        0        0       3        0        0   \n",
      "2          0  ...        0        0        0       3        0        0   \n",
      "5          0  ...        0        0        0       3        0        0   \n",
      "7          0  ...        0        0        0       3        0        0   \n",
      "8          0  ...        0        0        0       3        0        0   \n",
      "...      ...  ...      ...      ...      ...     ...      ...      ...   \n",
      "1301       0  ...        0        0        0       3        0        0   \n",
      "1303       0  ...        0        0        0       3        0        0   \n",
      "1304       0  ...        0        0        0       3        0        0   \n",
      "1307       0  ...        0        0        0       3        0        0   \n",
      "1308       0  ...        0        0        0       3        0        0   \n",
      "\n",
      "      Embarked  zero.17  zero.18  2urvived  \n",
      "0          2.0        0        0         0  \n",
      "2          2.0        0        0         1  \n",
      "5          1.0        0        0         0  \n",
      "7          2.0        0        0         0  \n",
      "8          2.0        0        0         1  \n",
      "...        ...      ...      ...       ...  \n",
      "1301       1.0        0        0         0  \n",
      "1303       2.0        0        0         0  \n",
      "1304       2.0        0        0         0  \n",
      "1307       2.0        0        0         0  \n",
      "1308       0.0        0        0         0  \n",
      "\n",
      "[964 rows x 28 columns]\n"
     ]
    }
   ],
   "source": [
    "young_passengers = df[df['Age'] < 35]\n",
    "print(young_passengers)\n",
    "\n"
   ]
  },
  {
   "cell_type": "code",
   "execution_count": 5,
   "id": "2c52e737",
   "metadata": {
    "execution": {
     "iopub.execute_input": "2023-05-14T17:33:47.271644Z",
     "iopub.status.busy": "2023-05-14T17:33:47.271309Z",
     "iopub.status.idle": "2023-05-14T17:33:47.278863Z",
     "shell.execute_reply": "2023-05-14T17:33:47.277950Z"
    },
    "papermill": {
     "duration": 0.015091,
     "end_time": "2023-05-14T17:33:47.281338",
     "exception": false,
     "start_time": "2023-05-14T17:33:47.266247",
     "status": "completed"
    },
    "tags": []
   },
   "outputs": [
    {
     "name": "stdout",
     "output_type": "stream",
     "text": [
      "    Sex  sibsp  zero\n",
      "10    1      1     0\n",
      "11    1      0     0\n",
      "12    0      0     0\n",
      "13    0      1     0\n",
      "14    1      0     0\n",
      "15    1      0     0\n",
      "16    0      4     0\n",
      "17    0      0     0\n",
      "18    1      1     0\n",
      "19    1      0     0\n",
      "20    0      0     0\n",
      "21    0      0     0\n",
      "22    1      0     0\n",
      "23    0      0     0\n",
      "24    1      3     0\n",
      "25    1      1     0\n"
     ]
    }
   ],
   "source": [
    "subset = df.iloc[10:26, 3:6]\n",
    "print(subset)\n"
   ]
  },
  {
   "cell_type": "code",
   "execution_count": 6,
   "id": "31eb9400",
   "metadata": {
    "execution": {
     "iopub.execute_input": "2023-05-14T17:33:47.289580Z",
     "iopub.status.busy": "2023-05-14T17:33:47.288718Z",
     "iopub.status.idle": "2023-05-14T17:33:47.307101Z",
     "shell.execute_reply": "2023-05-14T17:33:47.305895Z"
    },
    "papermill": {
     "duration": 0.025117,
     "end_time": "2023-05-14T17:33:47.309484",
     "exception": false,
     "start_time": "2023-05-14T17:33:47.284367",
     "status": "completed"
    },
    "tags": []
   },
   "outputs": [
    {
     "name": "stdout",
     "output_type": "stream",
     "text": [
      "              Age        Fare\n",
      "min      0.170000    0.000000\n",
      "max     80.000000  512.329200\n",
      "mean    29.503186   33.281086\n",
      "median  28.000000   14.454200\n"
     ]
    }
   ],
   "source": [
    "statistics = df[['Age', 'Fare']].agg(['min', 'max', 'mean', 'median'])\n",
    "print(statistics)\n"
   ]
  },
  {
   "cell_type": "code",
   "execution_count": 7,
   "id": "d2f50a87",
   "metadata": {
    "execution": {
     "iopub.execute_input": "2023-05-14T17:33:47.315852Z",
     "iopub.status.busy": "2023-05-14T17:33:47.315498Z",
     "iopub.status.idle": "2023-05-14T17:33:47.331325Z",
     "shell.execute_reply": "2023-05-14T17:33:47.329327Z"
    },
    "papermill": {
     "duration": 0.022018,
     "end_time": "2023-05-14T17:33:47.334124",
     "exception": false,
     "start_time": "2023-05-14T17:33:47.312106",
     "status": "completed"
    },
    "tags": []
   },
   "outputs": [
    {
     "name": "stdout",
     "output_type": "stream",
     "text": [
      "Sex  Pclass\n",
      "0    1          69.888385\n",
      "     2          19.904946\n",
      "     3          12.419597\n",
      "1    1         109.412385\n",
      "     2          23.234827\n",
      "     3          15.324250\n",
      "Name: Fare, dtype: float64\n"
     ]
    }
   ],
   "source": [
    "mean_fare_by_group = df.groupby(['Sex', 'Pclass'])['Fare'].mean()\n",
    "print(mean_fare_by_group)\n"
   ]
  }
 ],
 "metadata": {
  "kernelspec": {
   "display_name": "Python 3",
   "language": "python",
   "name": "python3"
  },
  "language_info": {
   "codemirror_mode": {
    "name": "ipython",
    "version": 3
   },
   "file_extension": ".py",
   "mimetype": "text/x-python",
   "name": "python",
   "nbconvert_exporter": "python",
   "pygments_lexer": "ipython3",
   "version": "3.10.10"
  },
  "papermill": {
   "default_parameters": {},
   "duration": 10.306302,
   "end_time": "2023-05-14T17:33:48.159501",
   "environment_variables": {},
   "exception": null,
   "input_path": "__notebook__.ipynb",
   "output_path": "__notebook__.ipynb",
   "parameters": {},
   "start_time": "2023-05-14T17:33:37.853199",
   "version": "2.4.0"
  }
 },
 "nbformat": 4,
 "nbformat_minor": 5
}
