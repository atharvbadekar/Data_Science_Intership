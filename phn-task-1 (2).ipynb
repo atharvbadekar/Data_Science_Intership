{
 "cells": [
  {
   "cell_type": "code",
   "execution_count": 1,
   "id": "bcbbf231",
   "metadata": {
    "execution": {
     "iopub.execute_input": "2023-04-26T14:43:53.904874Z",
     "iopub.status.busy": "2023-04-26T14:43:53.904354Z",
     "iopub.status.idle": "2023-04-26T14:43:53.917714Z",
     "shell.execute_reply": "2023-04-26T14:43:53.916505Z"
    },
    "papermill": {
     "duration": 0.021597,
     "end_time": "2023-04-26T14:43:53.920310",
     "exception": false,
     "start_time": "2023-04-26T14:43:53.898713",
     "status": "completed"
    },
    "tags": []
   },
   "outputs": [],
   "source": [
    "import pandas as pd\n"
   ]
  },
  {
   "cell_type": "code",
   "execution_count": 2,
   "id": "776e4731",
   "metadata": {
    "execution": {
     "iopub.execute_input": "2023-04-26T14:43:53.927628Z",
     "iopub.status.busy": "2023-04-26T14:43:53.927213Z",
     "iopub.status.idle": "2023-04-26T14:43:54.383364Z",
     "shell.execute_reply": "2023-04-26T14:43:54.381928Z"
    },
    "papermill": {
     "duration": 0.46409,
     "end_time": "2023-04-26T14:43:54.387024",
     "exception": false,
     "start_time": "2023-04-26T14:43:53.922934",
     "status": "completed"
    },
    "tags": []
   },
   "outputs": [
    {
     "name": "stdout",
     "output_type": "stream",
     "text": [
      "Car Specifications:\n",
      "    Company Name Model Name Fuel Type Body Style Car Length\n",
      "0         Toyota      Yaris    Petrol  Hatchback    3945 mm\n",
      "1          Honda      Civic     Sedan     Petrol    4650 mm\n",
      "2            Kia     Seltos    Diesel        SUV    4315 mm\n",
      "3          Tesla    Model S        EV      Sedan    4970 mm\n",
      "4  Maruti Suzuki     Baleno    Petrol  Hatchback    3995 mm\n",
      "\n",
      "Car Loan Details:\n",
      "    Company Name Model Name  On road pricing  Loan amount  Monthly EMI  \\\n",
      "0         Toyota      Yaris          1000000       750000        15000   \n",
      "1          Honda      Civic          1800000      1350000        25000   \n",
      "2            Kia     Seltos          1600000      1200000        22500   \n",
      "3          Tesla    Model S          8000000      6000000       112500   \n",
      "4  Maruti Suzuki     Baleno           800000       600000        12000   \n",
      "\n",
      "   Interest Rate  Monthly Principal  Monthly Interest  \n",
      "0         0.0850              12500              2500  \n",
      "1         0.0900              21250              3750  \n",
      "2         0.0875              18750              3750  \n",
      "3         0.0750             100000             12500  \n",
      "4         0.0800              10000              2000  \n"
     ]
    }
   ],
   "source": [
    "# Read the CSV file into a data frame\n",
    "df_car_specs = pd.read_csv(\"/kaggle/input/phntask1/car_specifications.csv\")\n",
    "\n",
    "# Read the Excel file into a data frame\n",
    "df_car_loan = pd.read_excel(\"/kaggle/input/phntask1/car_loan_details.xlsx\")\n",
    "\n",
    "# Display the data frames\n",
    "print(\"Car Specifications:\")\n",
    "print(df_car_specs.head())\n",
    "\n",
    "print(\"\\nCar Loan Details:\")\n",
    "print(df_car_loan.head())\n"
   ]
  },
  {
   "cell_type": "code",
   "execution_count": 3,
   "id": "c4fbc673",
   "metadata": {
    "execution": {
     "iopub.execute_input": "2023-04-26T14:43:54.394401Z",
     "iopub.status.busy": "2023-04-26T14:43:54.393737Z",
     "iopub.status.idle": "2023-04-26T14:43:54.426299Z",
     "shell.execute_reply": "2023-04-26T14:43:54.424393Z"
    },
    "papermill": {
     "duration": 0.039687,
     "end_time": "2023-04-26T14:43:54.429271",
     "exception": false,
     "start_time": "2023-04-26T14:43:54.389584",
     "status": "completed"
    },
    "tags": []
   },
   "outputs": [
    {
     "name": "stdout",
     "output_type": "stream",
     "text": [
      "Merged Data Frame:\n",
      "    Company Name Model Name Fuel Type Body Style Car Length  On road pricing  \\\n",
      "0         Toyota      Yaris    Petrol  Hatchback    3945 mm          1000000   \n",
      "1          Honda      Civic     Sedan     Petrol    4650 mm          1800000   \n",
      "2            Kia     Seltos    Diesel        SUV    4315 mm          1600000   \n",
      "3          Tesla    Model S        EV      Sedan    4970 mm          8000000   \n",
      "4  Maruti Suzuki     Baleno    Petrol  Hatchback    3995 mm           800000   \n",
      "\n",
      "   Loan amount  Monthly EMI  Interest Rate  Monthly Principal  \\\n",
      "0       750000        15000         0.0850              12500   \n",
      "1      1350000        25000         0.0900              21250   \n",
      "2      1200000        22500         0.0875              18750   \n",
      "3      6000000       112500         0.0750             100000   \n",
      "4       600000        12000         0.0800              10000   \n",
      "\n",
      "   Monthly Interest  \n",
      "0              2500  \n",
      "1              3750  \n",
      "2              3750  \n",
      "3             12500  \n",
      "4              2000  \n"
     ]
    }
   ],
   "source": [
    "# Merge the two data frames based on the primary key\n",
    "df_merged = pd.merge(df_car_specs, df_car_loan, on=[\"Company Name\", \"Model Name\"])\n",
    "\n",
    "# Display the merged data frame\n",
    "print(\"Merged Data Frame:\")\n",
    "print(df_merged.head())"
   ]
  },
  {
   "cell_type": "code",
   "execution_count": 4,
   "id": "60b7c6c7",
   "metadata": {
    "execution": {
     "iopub.execute_input": "2023-04-26T14:43:54.436401Z",
     "iopub.status.busy": "2023-04-26T14:43:54.435923Z",
     "iopub.status.idle": "2023-04-26T14:43:54.453428Z",
     "shell.execute_reply": "2023-04-26T14:43:54.451058Z"
    },
    "papermill": {
     "duration": 0.024557,
     "end_time": "2023-04-26T14:43:54.456474",
     "exception": false,
     "start_time": "2023-04-26T14:43:54.431917",
     "status": "completed"
    },
    "tags": []
   },
   "outputs": [
    {
     "name": "stdout",
     "output_type": "stream",
     "text": [
      "Filled Data Frame:\n",
      "    Company Name Model Name Fuel Type Body Style Car Length  On road pricing  \\\n",
      "0         Toyota      Yaris    Petrol  Hatchback    3945 mm          1000000   \n",
      "1          Honda      Civic     Sedan     Petrol    4650 mm          1800000   \n",
      "2            Kia     Seltos    Diesel        SUV    4315 mm          1600000   \n",
      "3          Tesla    Model S        EV      Sedan    4970 mm          8000000   \n",
      "4  Maruti Suzuki     Baleno    Petrol  Hatchback    3995 mm           800000   \n",
      "\n",
      "   Loan amount  Monthly EMI  Interest Rate  Monthly Principal  \\\n",
      "0       750000        15000         0.0850              12500   \n",
      "1      1350000        25000         0.0900              21250   \n",
      "2      1200000        22500         0.0875              18750   \n",
      "3      6000000       112500         0.0750             100000   \n",
      "4       600000        12000         0.0800              10000   \n",
      "\n",
      "   Monthly Interest  \n",
      "0              2500  \n",
      "1              3750  \n",
      "2              3750  \n",
      "3             12500  \n",
      "4              2000  \n"
     ]
    },
    {
     "name": "stderr",
     "output_type": "stream",
     "text": [
      "/opt/conda/lib/python3.7/site-packages/ipykernel_launcher.py:2: FutureWarning: Dropping of nuisance columns in DataFrame reductions (with 'numeric_only=None') is deprecated; in a future version this will raise TypeError.  Select only valid columns before calling the reduction.\n",
      "  \n"
     ]
    }
   ],
   "source": [
    "# Fill the NA values with the mean value of each column\n",
    "df_merged = df_merged.fillna(df_merged.mean())\n",
    "\n",
    "# Display the filled data frame\n",
    "print(\"Filled Data Frame:\")\n",
    "print(df_merged.head())"
   ]
  },
  {
   "cell_type": "code",
   "execution_count": 5,
   "id": "c6c31b92",
   "metadata": {
    "execution": {
     "iopub.execute_input": "2023-04-26T14:43:54.464706Z",
     "iopub.status.busy": "2023-04-26T14:43:54.463844Z",
     "iopub.status.idle": "2023-04-26T14:43:54.477435Z",
     "shell.execute_reply": "2023-04-26T14:43:54.476047Z"
    },
    "papermill": {
     "duration": 0.021206,
     "end_time": "2023-04-26T14:43:54.480883",
     "exception": false,
     "start_time": "2023-04-26T14:43:54.459677",
     "status": "completed"
    },
    "tags": []
   },
   "outputs": [
    {
     "name": "stdout",
     "output_type": "stream",
     "text": [
      "Updated Data Frame:\n",
      "    Company Name Model Name Fuel Type Body Style Car Length  On road pricing  \\\n",
      "0         Toyota      Yaris    Petrol  Hatchback    3945 mm        1180000.0   \n",
      "1          Honda      Civic     Sedan     Petrol    4650 mm        2124000.0   \n",
      "2            Kia     Seltos    Diesel        SUV    4315 mm        1888000.0   \n",
      "3          Tesla    Model S        EV      Sedan    4970 mm        9440000.0   \n",
      "4  Maruti Suzuki     Baleno    Petrol  Hatchback    3995 mm         944000.0   \n",
      "\n",
      "   Loan amount  Monthly EMI  Interest Rate  Monthly Principal  \\\n",
      "0       750000        15000         0.0850              12500   \n",
      "1      1350000        25000         0.0900              21250   \n",
      "2      1200000        22500         0.0875              18750   \n",
      "3      6000000       112500         0.0750             100000   \n",
      "4       600000        12000         0.0800              10000   \n",
      "\n",
      "   Monthly Interest  \n",
      "0              2500  \n",
      "1              3750  \n",
      "2              3750  \n",
      "3             12500  \n",
      "4              2000  \n"
     ]
    }
   ],
   "source": [
    "# Define a function to add the GST value to a price\n",
    "def add_gst(price):\n",
    "    return price * 1.18\n",
    "\n",
    "# Apply the function to the \"On road pricing\" column\n",
    "df_merged[\"On road pricing\"] = df_merged[\"On road pricing\"].apply(add_gst)\n",
    "\n",
    "# Display the updated data frame\n",
    "print(\"Updated Data Frame:\")\n",
    "print(df_merged.head())"
   ]
  }
 ],
 "metadata": {
  "kernelspec": {
   "display_name": "Python 3",
   "language": "python",
   "name": "python3"
  },
  "language_info": {
   "codemirror_mode": {
    "name": "ipython",
    "version": 3
   },
   "file_extension": ".py",
   "mimetype": "text/x-python",
   "name": "python",
   "nbconvert_exporter": "python",
   "pygments_lexer": "ipython3",
   "version": "3.7.12"
  },
  "papermill": {
   "default_parameters": {},
   "duration": 12.237417,
   "end_time": "2023-04-26T14:43:55.206278",
   "environment_variables": {},
   "exception": null,
   "input_path": "__notebook__.ipynb",
   "output_path": "__notebook__.ipynb",
   "parameters": {},
   "start_time": "2023-04-26T14:43:42.968861",
   "version": "2.4.0"
  }
 },
 "nbformat": 4,
 "nbformat_minor": 5
}
