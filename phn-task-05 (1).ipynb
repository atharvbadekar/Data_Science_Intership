{
 "cells": [
  {
   "cell_type": "code",
   "execution_count": 1,
   "id": "f929c2dd",
   "metadata": {
    "execution": {
     "iopub.execute_input": "2023-05-23T03:35:59.806481Z",
     "iopub.status.busy": "2023-05-23T03:35:59.806064Z",
     "iopub.status.idle": "2023-05-23T03:35:59.817734Z",
     "shell.execute_reply": "2023-05-23T03:35:59.816701Z"
    },
    "papermill": {
     "duration": 0.02083,
     "end_time": "2023-05-23T03:35:59.820033",
     "exception": false,
     "start_time": "2023-05-23T03:35:59.799203",
     "status": "completed"
    },
    "tags": []
   },
   "outputs": [],
   "source": [
    "import matplotlib.pyplot as plt"
   ]
  },
  {
   "cell_type": "code",
   "execution_count": 2,
   "id": "2c7aeb6f",
   "metadata": {
    "execution": {
     "iopub.execute_input": "2023-05-23T03:35:59.831442Z",
     "iopub.status.busy": "2023-05-23T03:35:59.830485Z",
     "iopub.status.idle": "2023-05-23T03:35:59.836020Z",
     "shell.execute_reply": "2023-05-23T03:35:59.834946Z"
    },
    "papermill": {
     "duration": 0.0136,
     "end_time": "2023-05-23T03:35:59.838382",
     "exception": false,
     "start_time": "2023-05-23T03:35:59.824782",
     "status": "completed"
    },
    "tags": []
   },
   "outputs": [],
   "source": [
    "# Data for the bar chart\n",
    "categories = ['Category A', 'Category B', 'Category C', 'Category D', 'Category E']\n",
    "values = [23, 56, 41, 62, 19]"
   ]
  },
  {
   "cell_type": "code",
   "execution_count": 3,
   "id": "7c605877",
   "metadata": {
    "execution": {
     "iopub.execute_input": "2023-05-23T03:35:59.849238Z",
     "iopub.status.busy": "2023-05-23T03:35:59.848868Z",
     "iopub.status.idle": "2023-05-23T03:35:59.854219Z",
     "shell.execute_reply": "2023-05-23T03:35:59.853130Z"
    },
    "papermill": {
     "duration": 0.013689,
     "end_time": "2023-05-23T03:35:59.856798",
     "exception": false,
     "start_time": "2023-05-23T03:35:59.843109",
     "status": "completed"
    },
    "tags": []
   },
   "outputs": [],
   "source": [
    "# Data for the histogram\n",
    "data = [12, 17, 21, 18, 14, 13, 16, 9, 12, 15, 19, 11, 14, 16, 20, 18, 15, 13, 16, 11, 10]\n"
   ]
  },
  {
   "cell_type": "code",
   "execution_count": 4,
   "id": "c6ce0cdf",
   "metadata": {
    "execution": {
     "iopub.execute_input": "2023-05-23T03:35:59.868008Z",
     "iopub.status.busy": "2023-05-23T03:35:59.867413Z",
     "iopub.status.idle": "2023-05-23T03:35:59.871804Z",
     "shell.execute_reply": "2023-05-23T03:35:59.870795Z"
    },
    "papermill": {
     "duration": 0.012791,
     "end_time": "2023-05-23T03:35:59.874110",
     "exception": false,
     "start_time": "2023-05-23T03:35:59.861319",
     "status": "completed"
    },
    "tags": []
   },
   "outputs": [],
   "source": [
    "# Data for the pie chart\n",
    "labels = ['Apple', 'Banana', 'Orange', 'Mango']\n",
    "sizes = [30, 25, 15, 30]\n"
   ]
  },
  {
   "cell_type": "code",
   "execution_count": 5,
   "id": "89f39114",
   "metadata": {
    "execution": {
     "iopub.execute_input": "2023-05-23T03:35:59.884809Z",
     "iopub.status.busy": "2023-05-23T03:35:59.884359Z",
     "iopub.status.idle": "2023-05-23T03:35:59.889725Z",
     "shell.execute_reply": "2023-05-23T03:35:59.888678Z"
    },
    "papermill": {
     "duration": 0.013513,
     "end_time": "2023-05-23T03:35:59.892227",
     "exception": false,
     "start_time": "2023-05-23T03:35:59.878714",
     "status": "completed"
    },
    "tags": []
   },
   "outputs": [],
   "source": [
    "\n",
    "# Data for the scatter plot\n",
    "x_values = [1, 2, 3, 4, 5]\n",
    "y_values = [2, 5, 3, 6, 4]"
   ]
  },
  {
   "cell_type": "code",
   "execution_count": 6,
   "id": "1edf8ca9",
   "metadata": {
    "execution": {
     "iopub.execute_input": "2023-05-23T03:35:59.903456Z",
     "iopub.status.busy": "2023-05-23T03:35:59.902727Z",
     "iopub.status.idle": "2023-05-23T03:36:00.522534Z",
     "shell.execute_reply": "2023-05-23T03:36:00.521089Z"
    },
    "papermill": {
     "duration": 0.628609,
     "end_time": "2023-05-23T03:36:00.525375",
     "exception": false,
     "start_time": "2023-05-23T03:35:59.896766",
     "status": "completed"
    },
    "tags": []
   },
   "outputs": [
    {
     "data": {
      "image/png": "[encoded data removed]",
      "text/plain": [
       "<Figure size 640x480 with 4 Axes>"
      ]
     },
     "metadata": {},
     "output_type": "display_data"
    }
   ],
   "source": [
    "# Create the figure and subplots\n",
    "fig, axes = plt.subplots(2, 2)\n",
    "fig.tight_layout(pad=3.0)  # Adjust subplot spacing"
   ]
  },
  {
   "cell_type": "code",
   "execution_count": 7,
   "id": "f0bf4198",
   "metadata": {
    "execution": {
     "iopub.execute_input": "2023-05-23T03:36:00.537838Z",
     "iopub.status.busy": "2023-05-23T03:36:00.537462Z",
     "iopub.status.idle": "2023-05-23T03:36:00.556228Z",
     "shell.execute_reply": "2023-05-23T03:36:00.554979Z"
    },
    "papermill": {
     "duration": 0.028045,
     "end_time": "2023-05-23T03:36:00.558804",
     "exception": false,
     "start_time": "2023-05-23T03:36:00.530759",
     "status": "completed"
    },
    "tags": []
   },
   "outputs": [
    {
     "data": {
      "text/plain": [
       "Text(4.444444444444452, 0.5, 'Values')"
      ]
     },
     "execution_count": 7,
     "metadata": {},
     "output_type": "execute_result"
    }
   ],
   "source": [
    "# Plot the bar chart\n",
    "axes[0, 0].bar(categories, values)\n",
    "axes[0, 0].set_title('Bar Chart')\n",
    "axes[0, 0].set_xlabel('Categories')\n",
    "axes[0, 0].set_ylabel('Values')"
   ]
  },
  {
   "cell_type": "code",
   "execution_count": 8,
   "id": "20050da7",
   "metadata": {
    "execution": {
     "iopub.execute_input": "2023-05-23T03:36:00.570944Z",
     "iopub.status.busy": "2023-05-23T03:36:00.570141Z",
     "iopub.status.idle": "2023-05-23T03:36:00.596257Z",
     "shell.execute_reply": "2023-05-23T03:36:00.595441Z"
    },
    "papermill": {
     "duration": 0.034952,
     "end_time": "2023-05-23T03:36:00.598822",
     "exception": false,
     "start_time": "2023-05-23T03:36:00.563870",
     "status": "completed"
    },
    "tags": []
   },
   "outputs": [
    {
     "data": {
      "text/plain": [
       "Text(303.6111111111111, 0.5, 'Frequency')"
      ]
     },
     "execution_count": 8,
     "metadata": {},
     "output_type": "execute_result"
    }
   ],
   "source": [
    "# Plot the histogram\n",
    "axes[0, 1].hist(data)\n",
    "axes[0, 1].set_title('Histogram')\n",
    "axes[0, 1].set_xlabel('Data')\n",
    "axes[0, 1].set_ylabel('Frequency')"
   ]
  },
  {
   "cell_type": "code",
   "execution_count": 9,
   "id": "ecd9ce1f",
   "metadata": {
    "execution": {
     "iopub.execute_input": "2023-05-23T03:36:00.610883Z",
     "iopub.status.busy": "2023-05-23T03:36:00.610470Z",
     "iopub.status.idle": "2023-05-23T03:36:00.643409Z",
     "shell.execute_reply": "2023-05-23T03:36:00.642288Z"
    },
    "papermill": {
     "duration": 0.041814,
     "end_time": "2023-05-23T03:36:00.645856",
     "exception": false,
     "start_time": "2023-05-23T03:36:00.604042",
     "status": "completed"
    },
    "tags": []
   },
   "outputs": [
    {
     "data": {
      "text/plain": [
       "Text(0.5, 1.0, 'Pie Chart')"
      ]
     },
     "execution_count": 9,
     "metadata": {},
     "output_type": "execute_result"
    }
   ],
   "source": [
    "# Plot the pie chart\n",
    "axes[1, 0].pie(sizes, labels=labels, autopct='%1.1f%%')\n",
    "axes[1, 0].set_title('Pie Chart')"
   ]
  },
  {
   "cell_type": "code",
   "execution_count": 10,
   "id": "22bf9042",
   "metadata": {
    "execution": {
     "iopub.execute_input": "2023-05-23T03:36:00.658253Z",
     "iopub.status.busy": "2023-05-23T03:36:00.657843Z",
     "iopub.status.idle": "2023-05-23T03:36:00.669979Z",
     "shell.execute_reply": "2023-05-23T03:36:00.668829Z"
    },
    "papermill": {
     "duration": 0.020943,
     "end_time": "2023-05-23T03:36:00.672287",
     "exception": false,
     "start_time": "2023-05-23T03:36:00.651344",
     "status": "completed"
    },
    "tags": []
   },
   "outputs": [
    {
     "data": {
      "text/plain": [
       "Text(303.6111111111111, 0.5, 'Y Values')"
      ]
     },
     "execution_count": 10,
     "metadata": {},
     "output_type": "execute_result"
    }
   ],
   "source": [
    "# Plot the scatter plot\n",
    "axes[1, 1].scatter(x_values, y_values)\n",
    "axes[1, 1].set_title('Scatter Plot')\n",
    "axes[1, 1].set_xlabel('X Values')\n",
    "axes[1, 1].set_ylabel('Y Values')"
   ]
  },
  {
   "cell_type": "code",
   "execution_count": 11,
   "id": "1b6a3f5f",
   "metadata": {
    "execution": {
     "iopub.execute_input": "2023-05-23T03:36:00.684530Z",
     "iopub.status.busy": "2023-05-23T03:36:00.684096Z",
     "iopub.status.idle": "2023-05-23T03:36:00.688369Z",
     "shell.execute_reply": "2023-05-23T03:36:00.687587Z"
    },
    "papermill": {
     "duration": 0.012863,
     "end_time": "2023-05-23T03:36:00.690508",
     "exception": false,
     "start_time": "2023-05-23T03:36:00.677645",
     "status": "completed"
    },
    "tags": []
   },
   "outputs": [],
   "source": [
    "# Display the figure\n",
    "plt.show()"
   ]
  }
 ],
 "metadata": {
  "kernelspec": {
   "display_name": "Python 3",
   "language": "python",
   "name": "python3"
  },
  "language_info": {
   "codemirror_mode": {
    "name": "ipython",
    "version": 3
   },
   "file_extension": ".py",
   "mimetype": "text/x-python",
   "name": "python",
   "nbconvert_exporter": "python",
   "pygments_lexer": "ipython3",
   "version": "3.10.10"
  },
  "papermill": {
   "default_parameters": {},
   "duration": 13.926848,
   "end_time": "2023-05-23T03:36:01.618282",
   "environment_variables": {},
   "exception": null,
   "input_path": "__notebook__.ipynb",
   "output_path": "__notebook__.ipynb",
   "parameters": {},
   "start_time": "2023-05-23T03:35:47.691434",
   "version": "2.4.0"
  }
 },
 "nbformat": 4,
 "nbformat_minor": 5
}
